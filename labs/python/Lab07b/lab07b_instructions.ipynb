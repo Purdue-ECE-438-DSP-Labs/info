{
 "cells": [
  {
   "cell_type": "markdown",
   "metadata": {},
   "source": [
    "<h1><center>\n",
    "    ECE 438 - Laboratory 7<br/>\n",
    "    Discrete-Time Random Process (Week 2)<br/>\n",
    "    <small>Last updated on March 22, 2022</small>\n",
    "</center></h1>"
   ]
  },
  {
   "cell_type": "code",
   "execution_count": 1,
   "metadata": {},
   "outputs": [],
   "source": [
    "import numpy as np\n",
    "import matplotlib.pyplot as plt"
   ]
  },
  {
   "cell_type": "code",
   "execution_count": 2,
   "metadata": {},
   "outputs": [],
   "source": [
    "# make sure the plot is displayed in this notebook\n",
    "%matplotlib inline\n",
    "# specify the size of the plot\n",
    "plt.rcParams['figure.figsize'] = (16, 6)\n",
    "\n",
    "# for auto-reloading extenrnal modules\n",
    "%load_ext autoreload\n",
    "%autoreload 2"
   ]
  },
  {
   "cell_type": "markdown",
   "metadata": {},
   "source": [
    "<h2 style=\"color:salmon;\"><left>1. Bivariate Distributions</left></h2>"
   ]
  },
  {
   "cell_type": "markdown",
   "metadata": {},
   "source": [
    "In this section, we will study the concept of a bivariate distribution. We will see that bivariate distributions characterize how two random variables are related to each other. We will also see that correlation and covariance are two simple measures of the dependencies between random variables, which can be very useful for analyzing both random variables and random processes."
   ]
  },
  {
   "cell_type": "markdown",
   "metadata": {},
   "source": [
    "<h3 style=\"color:salmon;\"><left>1.1 Background on Bivariate Distributions</left></h3>"
   ]
  },
  {
   "cell_type": "markdown",
   "metadata": {},
   "source": [
    "Sometimes we need to account for not just one random variable, but several. In this section, we will examine the case of two random variables–the so called *bivariate* case–but the theoryis easily generalized to accommodate more than two.\n",
    "\n",
    "The random variables $X$ and $Y$ have cumulative distribution functions (CDFs) $F_X(x)$ and $F_Y(y)$, also known as *marginal* CDFs. Since there may be an interaction between $X$ and $Y$, the marginal statistics may not fully describe their behavior. Therefore we define a *bivariate*, or *joint* CDF as\n",
    "\n",
    "\\begin{equation}\n",
    "    F_{X,Y}(x,y)=\\mathbb{P}(X\\leq x,Y\\leq y)\\tag{1}\n",
    "\\end{equation}\n",
    "\n",
    "If the joint CDF is sufficiently “smooth”, we can define a joint probability density function,\n",
    "\n",
    "\\begin{equation}\n",
    "    f_{X,Y}(x,y)=\\frac{\\partial^2}{\\partial x\\partial y}F_{X,Y}(x,y)\\tag{2}\n",
    "\\end{equation}\n",
    "\n",
    "Conversely, the joint probability density function may be used to calculate the joint CDF:\n",
    "\n",
    "\\begin{equation}\n",
    "    F_{X,Y}(x,y)=\\int_{-\\infty}^y\\int_{-\\infty}^xf_{X,Y}(s,t)dsdt\\tag{3}\n",
    "\\end{equation}\n",
    "\n",
    "The random variables $X$ and $Y$ are said to be **independent** if and only if their joint CDF (or PDF) is a separable function, which means\n",
    "\n",
    "\\begin{equation}\n",
    "    f_{X,Y}(x,y)=f_X(x)f_Y(y)\\tag{4}\n",
    "\\end{equation}\n",
    "\n",
    "Informally, independence between random variables means that one random variable does not tell you anything about the other. As a consequence of the definition, if $X$ and $Y$ are independent, then the product of their expectations is the expectation of their product.\n",
    "\n",
    "\\begin{equation}\n",
    "    \\mathbb{E}[XY]=\\mathbb{E}[X]\\mathbb{E}[Y]\\tag{5}\n",
    "\\end{equation}\n",
    "\n",
    "While the joint distribution contains all the information about $X$ and $Y$ , it can be very complex and is often difficult to calculate. In many applications, a simple measure of the dependencies of $X$ and $Y$ can be very useful. Three such measures are the **correlation**, **covariance**, and the **correlation coefficient**.\n",
    "\n",
    "* Correlation\n",
    "\\begin{equation}\n",
    "    \\mathbb{E}[XY]=\\int_{-\\infty}^{\\infty}\\int_{-\\infty}^\\infty xyf_{X,Y}(x,y)dxdy\\tag{6}\n",
    "\\end{equation}\n",
    "* Covariance\n",
    "\\begin{equation}\n",
    "    \\mathbb{E}[(X-\\mu_X)(Y-\\mu_Y)]=\\int_{-\\infty}^{\\infty}\\int_{-\\infty}^\\infty (x-\\mu_X)(y-\\mu_Y)f_{X,Y}(x,y)dxdy\\tag{7}\n",
    "\\end{equation}\n",
    "* Correlation coefficient\n",
    "\\begin{equation}\n",
    "   \\rho_{X,Y}=\\frac{\\mathbb{E}(X-\\mu_X)(Y-\\mu_Y)}{\\sigma_X\\sigma_Y}=\\frac{\\mathbb{E}[XY]-\\mu_X\\mu_Y}{\\sigma_X\\sigma_Y}\\tag{8}\n",
    "\\end{equation}\n",
    "\n",
    "If the correlation coefficient is 0, then $X$ and $Y$ are said to be **uncorrelated**. Notice that independence implies uncorrelatedness, however the converse is **NOT** true."
   ]
  },
  {
   "cell_type": "markdown",
   "metadata": {},
   "source": [
    "<h3 style=\"color:red;\"><left>Exercise 1.2: Samples of Two Random Variables</left></h3>"
   ]
  },
  {
   "cell_type": "markdown",
   "metadata": {},
   "source": [
    "In the following experiment, we will examine the relationship between the scatter plots for pairs of random samples $(X_i, Z_i)$ and their correlation coefficient. We will see that the correlation coefficient determines the shape of the scatter plot."
   ]
  },
  {
   "cell_type": "markdown",
   "metadata": {},
   "source": [
    "Let $X$ and $Y$ be independent Gaussian random variables, each with mean $0$ and variance $1$. We will consider the correlation between $X$ and $Z$, where Z is equal to the following:\n",
    "\n",
    "$\\begin{aligned}\n",
    "    \\text{1.}\\quad Z&=Y\\\\\n",
    "    \\text{2.}\\quad Z&=\\frac{X+Y}{2}\\\\\n",
    "    \\text{3.}\\quad Z&=\\frac{4X+Y}{5}\\\\\n",
    "    \\text{4.}\\quad Z&=\\frac{99X+Y}{100}\n",
    "\\end{aligned}$\n",
    "\n",
    "Notice that since $Z$ is a linear combination of two Gaussian random variables, $Z$ will also be Gaussian."
   ]
  },
  {
   "cell_type": "markdown",
   "metadata": {},
   "source": [
    "**1. Use equation (8) to analytically calculate the correlation coefficient $\\rho_{XZ}$ between $X$ and $Z$. Show all of your work. Remember that independence between $X$ and $Y$ implies that $\\mathbb{E}[XY]=\\mathbb{E}[X]\\mathbb{E}[Y]$. Also remember that $X$ and $Y$ are zero-mean and unit variance.**"
   ]
  },
  {
   "cell_type": "markdown",
   "metadata": {},
   "source": [
    "insert your answer here"
   ]
  },
  {
   "cell_type": "markdown",
   "metadata": {},
   "source": [
    "**2. Write code to generate $1000$ i.i.d. samples of $X$, denoted as $X_1,X_2,\\dots,X_{1000}$, and $1000$ i.i.d. samples of $Y$, denoted as $Y_1,Y_2,\\dots,Y_{1000}$.**"
   ]
  },
  {
   "cell_type": "code",
   "execution_count": 3,
   "metadata": {},
   "outputs": [],
   "source": [
    "# insert your code here\n"
   ]
  },
  {
   "cell_type": "markdown",
   "metadata": {},
   "source": [
    "**3. Create samples of $Z$ using your generated samples of $X$ and $Z$. Since there are 4 different $Z$'s, we name the variables as ```Z1```, ```Z2```, ```Z3```, ```Z4```.**"
   ]
  },
  {
   "cell_type": "code",
   "execution_count": 4,
   "metadata": {},
   "outputs": [],
   "source": [
    "# insert your code here\n"
   ]
  },
  {
   "cell_type": "markdown",
   "metadata": {},
   "source": [
    "**4. Generate a scatter plot of the ordered pair of samples $(X_i,Z_i)$ for each of 4 $Z$'s. Do this by plotting points $(X_1,Z_1),(X_2,Z_2),\\dots,(X_{1000},Z_{1000})$. In order to plot points without connecting them with lines, use the ```plt.plot(X, Z, '.')``` command.**"
   ]
  },
  {
   "cell_type": "markdown",
   "metadata": {},
   "source": [
    "(a) $Z=Y$"
   ]
  },
  {
   "cell_type": "code",
   "execution_count": 5,
   "metadata": {},
   "outputs": [],
   "source": [
    "# insert your code here\n"
   ]
  },
  {
   "cell_type": "markdown",
   "metadata": {},
   "source": [
    "(b) $Z=\\frac{X+Y}{2}$"
   ]
  },
  {
   "cell_type": "code",
   "execution_count": 6,
   "metadata": {},
   "outputs": [],
   "source": [
    "# insert your code here\n"
   ]
  },
  {
   "cell_type": "markdown",
   "metadata": {},
   "source": [
    "(c) $Z=\\frac{4X+Y}{5}$"
   ]
  },
  {
   "cell_type": "code",
   "execution_count": 7,
   "metadata": {},
   "outputs": [],
   "source": [
    "# insert your code here\n"
   ]
  },
  {
   "cell_type": "markdown",
   "metadata": {},
   "source": [
    "(d) $Z=\\frac{99X+Y}{100}$"
   ]
  },
  {
   "cell_type": "code",
   "execution_count": 8,
   "metadata": {},
   "outputs": [],
   "source": [
    "# insert your code here\n"
   ]
  },
  {
   "cell_type": "markdown",
   "metadata": {},
   "source": [
    "**5. Complete the function below that empirically computes an estimate of the correlation coefficient using your samples $X_i$ and $Z_i$ and the following formula.**\n",
    "\n",
    "\\begin{equation}\n",
    "    \\hat{\\rho}_{XZ}=\\frac{\\sum_{i=1}^N(X_i-\\hat{\\mu}_X)(Z_i-\\hat{\\mu}_Z)}{\\sqrt{\\sum_{i=1}^N(X_i-\\hat{\\mu}_X)^2\\sum_{i=1}^N(Z_i-\\hat{\\mu}_Z)^2}}\n",
    "\\end{equation}\n",
    "\n",
    "**Hint:** You will need to make use of the function ```get_sample_mean(X)``` that you wrote in Lab07a."
   ]
  },
  {
   "cell_type": "code",
   "execution_count": 9,
   "metadata": {},
   "outputs": [],
   "source": [
    "def empirical_corr_coef(X, Z):\n",
    "    \"\"\"\n",
    "    Parameters\n",
    "    ---\n",
    "    X: random samples\n",
    "    Z: random samples\n",
    "    \n",
    "    Returns\n",
    "    ---\n",
    "    rho: the correlation coefficient\n",
    "    \"\"\"\n",
    "    rho = None\n",
    "    return rho"
   ]
  },
  {
   "cell_type": "markdown",
   "metadata": {},
   "source": [
    "**6. Print the empirical correlation coefficient between $X$ and $Z$ for each of the four cases.**"
   ]
  },
  {
   "cell_type": "markdown",
   "metadata": {},
   "source": [
    "(a) $Z=Y$"
   ]
  },
  {
   "cell_type": "code",
   "execution_count": 10,
   "metadata": {},
   "outputs": [],
   "source": [
    "# insert your code here\n"
   ]
  },
  {
   "cell_type": "markdown",
   "metadata": {},
   "source": [
    "(b) $Z=\\frac{X+Y}{2}$"
   ]
  },
  {
   "cell_type": "code",
   "execution_count": 11,
   "metadata": {},
   "outputs": [],
   "source": [
    "# insert your code here\n"
   ]
  },
  {
   "cell_type": "markdown",
   "metadata": {},
   "source": [
    "(c) $Z=\\frac{4X+Y}{5}$"
   ]
  },
  {
   "cell_type": "code",
   "execution_count": 12,
   "metadata": {},
   "outputs": [],
   "source": [
    "# insert your code here\n"
   ]
  },
  {
   "cell_type": "markdown",
   "metadata": {},
   "source": [
    "(d) $Z=\\frac{99X+Y}{100}$"
   ]
  },
  {
   "cell_type": "code",
   "execution_count": 13,
   "metadata": {},
   "outputs": [],
   "source": [
    "# insert your code here\n"
   ]
  },
  {
   "cell_type": "markdown",
   "metadata": {},
   "source": [
    "**7. Why are $\\rho_{XZ}$ and $\\hat{\\rho}_{XZ}$ not exactly equal?**"
   ]
  },
  {
   "cell_type": "markdown",
   "metadata": {},
   "source": [
    "insert your answer here"
   ]
  },
  {
   "cell_type": "markdown",
   "metadata": {},
   "source": [
    "**8. Explain how the scatter plots are related to $\\rho_{XZ}$.**"
   ]
  },
  {
   "cell_type": "markdown",
   "metadata": {},
   "source": [
    "insert your answer here"
   ]
  },
  {
   "cell_type": "markdown",
   "metadata": {},
   "source": [
    "<h2 style=\"color:salmon;\"><left>2. Autocorrelation for Filtered Random Process</left></h2>"
   ]
  },
  {
   "cell_type": "markdown",
   "metadata": {},
   "source": [
    "In this section, we will generate discrete-time random processes and then analyze their behavior using the correlation measure introduced in the previous section."
   ]
  },
  {
   "cell_type": "markdown",
   "metadata": {},
   "source": [
    "<h3 style=\"color:salmon;\"><left>2.1 Background</left></h3>"
   ]
  },
  {
   "cell_type": "markdown",
   "metadata": {},
   "source": [
    "A discrete-time random process $X_n$ is simply a sequence of random variables. So for each $n$, $X_n$ is a random variable.\n",
    "\n",
    "The **autocorrelation** is an important function for characterizing the behavior of random processes. If $X$ is a wide-sense stationary (WSS) random process, the autocorrelation is defined by\n",
    "\n",
    "\\begin{equation}\n",
    "    r_{XX}[m]=\\mathbb{E}[X_nX_{n+m}]\\quad m=\\dots,-1,0,1,\\dots\\tag{9}\n",
    "\\end{equation}\n",
    "\n",
    "Note that for a WSS random process, the autocorrelation does not vary with $n$. Also, since $\\mathbb{E}[X_nX_{n+m}]=\\mathbb{E}[X_{n+m}X_n]$, the autocorrelation is an even function of the “lag” value $m$.\n",
    "\n",
    "Intuitively, the autocorrelation determines how strong a relation there is between samples separated by a lag value of $m$. For example, if $X$ is a sequence of independent identically distributed (i.i.d.) random variables each with zero mean and variance $\\sigma_X^2$, then the autocorrelation is given by\n",
    "\n",
    "\\begin{align*}\n",
    "    r_{XX}[m]&=\\mathbb{E}[X_nX_{n+m}]\\\\\n",
    "    &=\\begin{cases}\\mathbb{E}[X_n]\\mathbb{E}[X_{n+m}]\\quad&\\text{if }m\\neq0\\\\\\mathbb{E}[X_n^2]\\quad&\\text{if }m=0\\end{cases}\\\\\n",
    "    &=\\sigma_X^2\\delta[m]\\tag{10}\n",
    "\\end{align*}\n",
    "\n",
    "We use the term **white** or **white noise** to describe this type of random process. More precisely, a random process is called white if its values $X_n$ and $X_{n+m}$ are uncorrelated for every $m \\neq 0$.\n",
    "\n",
    "<figure>\n",
    "    <img src=\"imgs/figure1.png\" style=\"width:60%\">\n",
    "    <em><center>Figure 1: A new LTI system diagram</center></em>\n",
    "</figure>\n",
    "\n",
    "If we run a white random process $X_n$ through an LTI filter as in Figure 1, the output random variables $Y_n$ may become correlated. In fact, it can be shown that the output autocorrelation $r_{YY}[m]$ is related to the input autocorrelation $r_{XX}[m]$ through the filter’s impulse response $h[m]$.\n",
    "\n",
    "\\begin{equation}\n",
    "    r_{YY}[m]=h[m]*h[-m]*r_{XX}[m]\\tag{11}\n",
    "\\end{equation}"
   ]
  },
  {
   "cell_type": "markdown",
   "metadata": {},
   "source": [
    "<h3 style=\"color:red;\"><left>Exercise 2.2</left></h3>"
   ]
  },
  {
   "cell_type": "markdown",
   "metadata": {},
   "source": [
    "Consider a white Gaussian random process $X_n$ with mean $0$ and variance $1$ as input to the following filter.\n",
    "\n",
    "\\begin{equation}\n",
    "    y[n]=x[n]-x[n-1]+x[n-2]\\tag{12}\n",
    "\\end{equation}"
   ]
  },
  {
   "cell_type": "markdown",
   "metadata": {},
   "source": [
    "**1. Calculate the theoretical autocorrelation of $Y_n$, $r_{YY}[m]$, using (10) and (11). Show all of your work.**"
   ]
  },
  {
   "cell_type": "markdown",
   "metadata": {},
   "source": [
    "insert your answer here"
   ]
  },
  {
   "cell_type": "markdown",
   "metadata": {},
   "source": [
    "**2. Write code to generate $1000$ independent samples of a Gaussian random variable $X$ with mean $0$ and variance $1$. Filter the samples using (12). We will denote the filtered signal $Y_i$, $i=1,2,\\dots,1000$.**"
   ]
  },
  {
   "cell_type": "code",
   "execution_count": 14,
   "metadata": {},
   "outputs": [],
   "source": [
    "# insert your code here\n"
   ]
  },
  {
   "cell_type": "markdown",
   "metadata": {},
   "source": [
    "**3. Plot the following 4 scatter plots. Include the corresponding theoretical correlation, using $r_{YY}[m]$, in the title.**"
   ]
  },
  {
   "cell_type": "markdown",
   "metadata": {},
   "source": [
    "(a) $(Y_i,Y_{i+1})$ for $i=1,2,\\dots,990$"
   ]
  },
  {
   "cell_type": "code",
   "execution_count": 15,
   "metadata": {},
   "outputs": [],
   "source": [
    "# insert your code here\n"
   ]
  },
  {
   "cell_type": "markdown",
   "metadata": {},
   "source": [
    "(b) $(Y_i,Y_{i+2})$ for $i=1,2,\\dots,990$"
   ]
  },
  {
   "cell_type": "code",
   "execution_count": 16,
   "metadata": {},
   "outputs": [],
   "source": [
    "# insert your code here\n"
   ]
  },
  {
   "cell_type": "markdown",
   "metadata": {},
   "source": [
    "(c) $(Y_i,Y_{i+3})$ for $i=1,2,\\dots,990$"
   ]
  },
  {
   "cell_type": "code",
   "execution_count": 17,
   "metadata": {},
   "outputs": [],
   "source": [
    "# insert your code here\n"
   ]
  },
  {
   "cell_type": "markdown",
   "metadata": {},
   "source": [
    "(d) $(Y_i,Y_{i+4})$ for $i=1,2,\\dots,990$"
   ]
  },
  {
   "cell_type": "code",
   "execution_count": 18,
   "metadata": {},
   "outputs": [],
   "source": [
    "# insert your code here\n"
   ]
  },
  {
   "cell_type": "markdown",
   "metadata": {},
   "source": [
    "**4. What can you conclude about the output random process from these plots?**"
   ]
  },
  {
   "cell_type": "markdown",
   "metadata": {},
   "source": [
    "insert your answer here"
   ]
  },
  {
   "cell_type": "markdown",
   "metadata": {},
   "source": [
    "---"
   ]
  },
  {
   "cell_type": "markdown",
   "metadata": {},
   "source": [
    "For real applications, the theoretical autocorrelation may be unknown. Therefore, $r_{YY}[m]$ may be estimated by the sample autocorrelation, $r'_{YY}[m]$ defined by\n",
    "\n",
    "\\begin{equation}\n",
    "    r'_{YY}[m]=\\frac{1}{N-|m|}\\sum_{n=0}^{N-|m|-1}Y[n]Y[n+|m|]\\quad-(N-1)\\leq m\\leq N-1\\tag{13}\n",
    "\\end{equation}\n",
    "\n",
    "where $N$ is the number of samples of $Y$."
   ]
  },
  {
   "cell_type": "markdown",
   "metadata": {},
   "source": [
    "**5. Complete the function below to calculate the sample autocorrelation of $Y_n$ using (13).**"
   ]
  },
  {
   "cell_type": "code",
   "execution_count": 19,
   "metadata": {},
   "outputs": [],
   "source": [
    "def get_sample_autocorr(X, ms):\n",
    "    \"\"\"\n",
    "    Parameters\n",
    "    ---\n",
    "    X: the random process\n",
    "    ms: the vector of lag values\n",
    "    \n",
    "    Returns\n",
    "    ---\n",
    "    r: the sample autocorrelation\n",
    "    \"\"\"\n",
    "    r = None\n",
    "    return r"
   ]
  },
  {
   "cell_type": "markdown",
   "metadata": {},
   "source": [
    "**6. Make the following two plots.**"
   ]
  },
  {
   "cell_type": "markdown",
   "metadata": {},
   "source": [
    "(a) $r_{YY}$ vs $m$ for $-20\\leq m\\leq20$"
   ]
  },
  {
   "cell_type": "code",
   "execution_count": 20,
   "metadata": {},
   "outputs": [],
   "source": [
    "# insert your code here\n"
   ]
  },
  {
   "cell_type": "markdown",
   "metadata": {},
   "source": [
    "(b) $r'_{YY}$ vs $m$ for $-20\\leq m\\leq20$"
   ]
  },
  {
   "cell_type": "code",
   "execution_count": 21,
   "metadata": {},
   "outputs": [],
   "source": [
    "# insert your code here\n"
   ]
  },
  {
   "cell_type": "markdown",
   "metadata": {},
   "source": [
    "**7. Does equation (13) produce a reasonable approximation of the true autocorrelation?**"
   ]
  },
  {
   "cell_type": "markdown",
   "metadata": {},
   "source": [
    "insert your answer here"
   ]
  },
  {
   "cell_type": "markdown",
   "metadata": {},
   "source": [
    "**8. For what value of $m$ does $r_{YY}[m]$ reach its maximum?**"
   ]
  },
  {
   "cell_type": "markdown",
   "metadata": {},
   "source": [
    "insert your answer here"
   ]
  },
  {
   "cell_type": "markdown",
   "metadata": {},
   "source": [
    "**9. For what value of $m$ does $r'_{YY}[m]$ reach its maximum?**"
   ]
  },
  {
   "cell_type": "markdown",
   "metadata": {},
   "source": [
    "insert your answer here"
   ]
  },
  {
   "cell_type": "markdown",
   "metadata": {},
   "source": [
    "<h2 style=\"color:salmon;\"><left>3. Correlation of Two Random Processes</left></h2>"
   ]
  },
  {
   "cell_type": "markdown",
   "metadata": {},
   "source": [
    "<h3 style=\"color:salmon;\"><left>3.1 Background</left></h3>"
   ]
  },
  {
   "cell_type": "markdown",
   "metadata": {},
   "source": [
    "The **cross-correlation** is a function used to describe the correlation between two separate random processes. If $X$ and $Y$ are jointly WSS random processes, the cross-correlation is defined by \n",
    "\n",
    "\\begin{equation}\n",
    "    c_{XY}[m]=\\mathbb{E}[X_nY_{n+m}]\\quad m=\\dots,-1,0,1,\\dots\\tag{14}\n",
    "\\end{equation}\n",
    "\n",
    "Similar to the definition of the sample autocorrelation introduced in the previous section, we can define the sample cross-correlation for a pair of data sets. The sample cross-correlation between two finite random sequences $X_n$ and $Y_n$ is defined as\n",
    "\n",
    "\\begin{align*}\n",
    "    c'_{XY}[m]&=\\frac{1}{N-m}\\sum_{n=0}^{N-m-1}X[n]Y[n+m]\\quad0\\leq m\\leq N-1\\tag{15}\\\\\n",
    "    c'_{XY}[m]&=\\frac{1}{N-|m|}\\sum_{n=|m|}^{N-1}X[n]Y[n+m]\\quad 1-N\\leq m<0\\tag{16}\n",
    "\\end{align*}\n",
    "\n",
    "where $N$ is the number of samples in each sequence. Notice that the cross-correlation is not an even function of m. Hence a two-sided definition is required.\n",
    "\n",
    "Cross-correlation of signals is often used in applications of sonar and radar, for example to estimate the distance to a target. In a basic radar set-up, a zero-mean signal $X[n]$ is transmitted, which then reflects off a target after traveling for $D/2$ seconds. The reflected signal is received, amplified, and then digitized to form $Y[n]$. If we summarize the attenuation and amplification of the received signal by the constant $\\alpha$, then\n",
    "\n",
    "\\begin{equation}\n",
    "    Y[n]=\\alpha X[n-D]+W[n]\\tag{17}\n",
    "\\end{equation}\n",
    "\n",
    "where $W[n]$ is additive noise from the environment and receiver electronics.\n",
    "\n",
    "In order to compute the distance to the target, we must estimate the delay $D$. We can do this using the cross-correlation. The cross-correlation $c_{XY}$ can be calculated by substituting (17) into (14).\n",
    "\n",
    "\\begin{align*}\n",
    "    c_{XY}[m]&=\\mathbb{E}[X[n]Y[n+m]]\\\\\n",
    "    &=\\mathbb{E}[X[n](\\alpha X[n-D+m]+W[n+m])]\\\\\n",
    "    &=\\alpha\\mathbb{E}[X[n]X[n-D+m]]+\\mathbb{E}[X[n]]\\mathbb{E}[W[n+m]]\\\\\n",
    "    &=\\alpha\\mathbb{E}[X[n]X[n-D+m]]\n",
    "\\end{align*}\n",
    "\n",
    "Here we have used the assumptions that $X[n]$ and $W[n+m]$ are uncorrelated and zero-mean. By applying the definition of autocorrelation, we see that\n",
    "\n",
    "\\begin{equation}\n",
    "    c_{XY}[m]=\\alpha r_{XX}[m-D]\\tag{18}\n",
    "\\end{equation}\n",
    "\n",
    "Because $r_{XX}[m − D]$ reaches its maximum when $m = D$, we can find the delay $D$ by searching for a peak in the cross correlation $c_{XY}[m]$. Usually the transmitted signal $X[n]$ is designed so that $r_{XX}[m]$ has a large peak at $m = 0$."
   ]
  },
  {
   "cell_type": "markdown",
   "metadata": {},
   "source": [
    "<h3 style=\"color:red;\"><left>Exercise 3.2</left></h3>"
   ]
  },
  {
   "cell_type": "markdown",
   "metadata": {},
   "source": [
    "**1. Using (15) and (16), complete the function below to compute the sample cross-correlation between two discrete-time random processes, $X$ and $Y$.**"
   ]
  },
  {
   "cell_type": "code",
   "execution_count": 22,
   "metadata": {},
   "outputs": [],
   "source": [
    "def get_sample_crosscorr(X, Y, ms):\n",
    "    \"\"\"\n",
    "    Parameters\n",
    "    ---\n",
    "    X: the first random process\n",
    "    Y: the second random process\n",
    "    ms: the vector of the lag values\n",
    "    \n",
    "    Returns\n",
    "    ---\n",
    "    c: the sample cross-correlation\n",
    "    \"\"\"\n",
    "    \n",
    "    c = None\n",
    "    return c"
   ]
  },
  {
   "cell_type": "markdown",
   "metadata": {},
   "source": [
    "**2. Generate two length $1000$ sequences of zero-mean Gaussian random variables, denoted as $X_n$ and $Z_n$. Then generate a new sequence $Y_n=X_n+Z_n$.**"
   ]
  },
  {
   "cell_type": "code",
   "execution_count": 23,
   "metadata": {},
   "outputs": [],
   "source": [
    "# insert your code here\n"
   ]
  },
  {
   "cell_type": "markdown",
   "metadata": {},
   "source": [
    "**3. Use the function ```get_sample_crosscorr(X, Y, ms)``` to calculate the sample cross-correlation between $X$ and $Y$ for lags $-10\\leq m\\leq10$. Plot the cross-correlation function.**"
   ]
  },
  {
   "cell_type": "code",
   "execution_count": 24,
   "metadata": {},
   "outputs": [],
   "source": [
    "# insert your code here\n"
   ]
  },
  {
   "cell_type": "markdown",
   "metadata": {},
   "source": [
    "**4. Which value of $m$ produces the largest cross-correlation? Why?**"
   ]
  },
  {
   "cell_type": "markdown",
   "metadata": {},
   "source": [
    "insert your answer here"
   ]
  },
  {
   "cell_type": "markdown",
   "metadata": {},
   "source": [
    "**5. Is the cross-correlation function an even function of $m$? Why or why not?**"
   ]
  },
  {
   "cell_type": "markdown",
   "metadata": {},
   "source": [
    "insert your answer here"
   ]
  },
  {
   "cell_type": "markdown",
   "metadata": {},
   "source": [
    "<h3 style=\"color:red;\"><left>Exercise 3.3</left></h3>"
   ]
  },
  {
   "cell_type": "markdown",
   "metadata": {},
   "source": [
    "Next we will do an experiment to illustrate how cross-correlation can be used to measure time delay in radar applications. Load the file using the following block of code."
   ]
  },
  {
   "cell_type": "code",
   "execution_count": 25,
   "metadata": {},
   "outputs": [
    {
     "name": "stdout",
     "output_type": "stream",
     "text": [
      "Length of trans: 1000\n",
      "Length of received: 1000\n"
     ]
    }
   ],
   "source": [
    "trans = np.load(\"trans.npy\")\n",
    "received = np.load(\"received.npy\")\n",
    "print(f\"Length of trans: {len(trans)}\")\n",
    "print(f\"Length of received: {len(received)}\")\n",
    "\n",
    "# convert them to numpy arrays\n",
    "trans, received = np.array(trans), np.array(received)"
   ]
  },
  {
   "cell_type": "markdown",
   "metadata": {},
   "source": [
    "The lists ```trans``` and ```received``` contain two signals corresponding to the transmitted and received signals for a radar system."
   ]
  },
  {
   "cell_type": "markdown",
   "metadata": {},
   "source": [
    "**1. Plot the transmitted signal and the received signal.**"
   ]
  },
  {
   "cell_type": "code",
   "execution_count": 26,
   "metadata": {},
   "outputs": [],
   "source": [
    "# insert your code here\n"
   ]
  },
  {
   "cell_type": "markdown",
   "metadata": {},
   "source": [
    "**2. Can you estimate the delay $D$ by a visual inspection of the received signal?**"
   ]
  },
  {
   "cell_type": "markdown",
   "metadata": {},
   "source": [
    "insert your answer here"
   ]
  },
  {
   "cell_type": "markdown",
   "metadata": {},
   "source": [
    "**3. Compute the autocorrelation of the signal ```trans``` for the lags $-100\\leq m\\leq 100$, and plot it.**"
   ]
  },
  {
   "cell_type": "code",
   "execution_count": 27,
   "metadata": {},
   "outputs": [],
   "source": [
    "# insert your code here\n"
   ]
  },
  {
   "cell_type": "markdown",
   "metadata": {},
   "source": [
    "**4. Compute the sample cross-correlation between the signal ```trans``` and ```received``` for the range of lag values $-100\\leq m\\leq100$.**"
   ]
  },
  {
   "cell_type": "code",
   "execution_count": 28,
   "metadata": {},
   "outputs": [],
   "source": [
    "# insert your code here\n"
   ]
  },
  {
   "cell_type": "markdown",
   "metadata": {},
   "source": [
    "**5. Determine the delay $D$ from the sample correlation. How did you determine this?**"
   ]
  },
  {
   "cell_type": "code",
   "execution_count": 29,
   "metadata": {},
   "outputs": [],
   "source": [
    "# insert your code here\n"
   ]
  },
  {
   "cell_type": "markdown",
   "metadata": {},
   "source": [
    "<h2 style=\"color:salmon;\"><left>4. References</left></h2>"
   ]
  },
  {
   "cell_type": "markdown",
   "metadata": {},
   "source": [
    "[1] A. Papoulis, Probability, Random Variables, and Stochastic Processes, 3rd ed., McGraw-Hill, New York, 1991."
   ]
  }
 ],
 "metadata": {
  "kernelspec": {
   "display_name": "Python 3 (ipykernel)",
   "language": "python",
   "name": "python3"
  },
  "language_info": {
   "codemirror_mode": {
    "name": "ipython",
    "version": 3
   },
   "file_extension": ".py",
   "mimetype": "text/x-python",
   "name": "python",
   "nbconvert_exporter": "python",
   "pygments_lexer": "ipython3",
   "version": "3.8.1"
  }
 },
 "nbformat": 4,
 "nbformat_minor": 2
}
