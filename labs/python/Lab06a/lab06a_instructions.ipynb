{
 "cells": [
  {
   "cell_type": "markdown",
   "metadata": {},
   "source": [
    "<h1><center>\n",
    "    ECE 438 - Laboratory 6a<br/>\n",
    "    Discrete Fourier Transform and Fast Fourier Transform Algorithms (Week 1)<br/>\n",
    "    <small>Last updated on February 22, 2022</small>\n",
    "</center></h1>"
   ]
  },
  {
   "cell_type": "code",
   "execution_count": 1,
   "metadata": {},
   "outputs": [],
   "source": [
    "import numpy as np\n",
    "import matplotlib.pyplot as plt\n",
    "from helper import DTFT, hamming\n",
    "import time"
   ]
  },
  {
   "cell_type": "code",
   "execution_count": 2,
   "metadata": {},
   "outputs": [],
   "source": [
    "# make sure the plot is displayed in this notebook\n",
    "%matplotlib inline\n",
    "# specify the size of the plot\n",
    "plt.rcParams['figure.figsize'] = (16, 6)\n",
    "\n",
    "# for auto-reloading extenrnal modules\n",
    "%load_ext autoreload\n",
    "%autoreload 2"
   ]
  },
  {
   "cell_type": "markdown",
   "metadata": {},
   "source": [
    "<h2 style=\"color:salmon;\"><left>1. Introduction</left></h2>"
   ]
  },
  {
   "cell_type": "markdown",
   "metadata": {},
   "source": [
    "This is the first week of a two week laboratory that covers the Discrete Fourier Transform (DFT) and Fast Fourier Transform (FFT) methods. The first week will introduce the DFT and associated sampling and windowing effects, while the second week will continue the discussion of the DFT and introduce the FFT.\n",
    "\n",
    "In previous laboratories, we have used the Discrete-Time Fourier Transform (DTFT) extensively for analyzing signals and linear time-invariant systems.\n",
    "\n",
    "\\begin{align}\n",
    "    \\text{(DTFT)}\\quad X(e^{j\\omega})&=\\sum_{n=-\\infty}^{\\infty}x[n]e^{-j\\omega n}\\tag{1}\\\\\n",
    "    \\text{(inverse DTFT)}\\quad x[n]&=\\frac{1}{2\\pi}\\int_{-\\pi}^{\\pi}X(e^{j\\omega})e^{j\\omega n}d\\omega\\tag{2}\n",
    "\\end{align}\n",
    "\n",
    "While the DTFT is very useful analytically, it usually cannot be exactly evaluated on a computer because equation (1) requires an infinite sum and equation (2) requires the evaluation of an integral.\n",
    "\n",
    "The discrete Fourier transform (DFT) is a sampled version of the DTFT, hence it is better suited for numerical evaluation on computers.\n",
    "\n",
    "\\begin{align}\n",
    "    \\text{(DFT)}\\quad X_N[k]&=\\sum_{n=0}^{N-1}x[n]e^{-j2\\pi kn/N}\\tag{3}\\\\\n",
    "    \\text{(inverse DFT)}\\quad x[n]&=\\frac{1}{N}\\sum_{k=0}^{N-1}X_N[k]e^{j2\\pi kn/N}\\tag{4}\n",
    "\\end{align}\n",
    "\n",
    "Here $X_N[k]$ is an $N$ point DFT of $x[n]$. Note that $X_N[k]$ is a function of a discrete integer $k$, where $k$ ranges from $0$ to $N − 1$.\n",
    "\n",
    "In the following sections, we will study the derivation of the DFT from the DTFT, and several DFT implementations. The fastest and most important implementation is known as the fast Fourier transform (FFT). The FFT algorithm is one of the cornerstones of signal processing."
   ]
  },
  {
   "cell_type": "markdown",
   "metadata": {},
   "source": [
    "<h2 style=\"color:salmon;\"><left>2. Deriving the DFT from DTFT</left></h2>"
   ]
  },
  {
   "cell_type": "markdown",
   "metadata": {},
   "source": [
    "<h3 style=\"color:salmon;\"><left>2.1 Truncating the Time-domain Signal</left></h3>"
   ]
  },
  {
   "cell_type": "markdown",
   "metadata": {},
   "source": [
    "The DTFT usually cannot be computed exactly because the sum in equation (1) is infinite. However, the DTFT may be approximately computed by truncating the sum to a finite window. Let $w[n]$ be a rectangular window of length $N$:\n",
    "\n",
    "\\begin{equation}\n",
    "    w[n]=\\begin{cases}\n",
    "        1&0\\leq n\\leq N-1\\\\\n",
    "        0&\\text{else}\n",
    "    \\end{cases}\\tag{5}\n",
    "\\end{equation}\n",
    "\n",
    "Then we may define a truncated signal to be\n",
    "\n",
    "\\begin{equation}\n",
    "    x_{\\text{tr}}[n]=w[n]x[n]\\tag{6}\n",
    "\\end{equation}\n",
    "\n",
    "The DTFT of $x_{\\text{tr}}[n]$ is given by:\n",
    "\n",
    "\\begin{align}\n",
    "    X_{\\text{tr}}(e^{j\\omega})&=\\sum_{n=-\\infty}^{\\infty}x_{\\text{tr}}[n]e^{-j\\omega n}\\tag{7}\\\\\n",
    "    &=\\sum_{n=0}^{N-1}x[n]e^{-j\\omega n}\\tag{8}\n",
    "\\end{align}\n",
    "\n",
    "We would like to compute $X(e^{j\\omega})$, but as with filter design, the truncation window distorts the desired frequency characteristics; $X(e^{j\\omega})$ and $X_{\\text{tr}}(e^{j\\omega})$ are generally not equal. To understand the relation between these two DTFT’s, we need to convolve in the frequency domain (as we did in designing filters with the truncation technique):\n",
    "\n",
    "\\begin{equation}\n",
    "    X_{\\text{tr}}(e^{j\\omega})=\\frac{1}{2\\pi}\\int_{-\\pi}^{\\pi}X(e^{j\\sigma})W(e^{j(\\omega-\\sigma)})d\\sigma\\tag{9}\n",
    "\\end{equation}\n",
    "\n",
    "where $W(e^{j\\omega})$ is the DTFT of $w[n]$. Equation (9) is the periodic convolution of $X(e^{j\\omega})$ and $W(e^{j\\omega})$. Hence the true DTFT, $X(e^{j\\omega})$, is smoothed via convolution with $W(e^{j\\omega})$ to produce the truncated DTFT, $X_{\\text{tr}}(e^{j\\omega})$.\n",
    "\n",
    "We can calculate $W(e^{j\\omega})$:\n",
    "\n",
    "\\begin{align}\n",
    "    W(e^{j\\omega})&=\\sum_{n=-\\infty}^\\infty w[n]e^{-j\\omega n}\\\\\n",
    "    &=\\sum_{n=0}^{N-1}e^{-j\\omega n}\\\\\n",
    "    &=\\begin{cases}\\frac{1-e^{-j\\omega N}}{1-e^{-j\\omega}}&\\quad\\text{for }\\omega\\neq0,\\pm2\\pi\\\\N&\\quad\\text{for }\\omega=0,\\pm2\\pi\\end{cases}\\tag{10}\n",
    "\\end{align}\n",
    "\n",
    "For $\\omega\\neq0,\\pm2\\pi,\\dots,$ we have:\n",
    "\n",
    "\\begin{align}\n",
    "    W(e^{j\\omega})&=\\frac{e^{-j\\omega N/2}}{e^{-j\\omega/2}}\\frac{e^{j\\omega N/2}-e^{-j\\omega N/2}}{e^{j\\omega/2}-e^{-j\\omega/2}}\\\\\n",
    "    &=e^{-j\\omega(N-1)/2}\\frac{\\sin(\\omega N/2)}{\\sin(\\omega/2)}\\tag{11}\n",
    "\\end{align}\n",
    "\n",
    "Notice that the magnitude of this function is similar to $\\text{sinc}(\\omega N/2)$ except that it is periodic in $\\omega$ with period $2\\pi$."
   ]
  },
  {
   "cell_type": "markdown",
   "metadata": {},
   "source": [
    "<h3 style=\"color:salmon;\"><left>2.2 Frequency Sampling</left></h3>"
   ]
  },
  {
   "cell_type": "markdown",
   "metadata": {},
   "source": [
    "Equation (8) contains a summation over a finite number of terms. However, we can only\n",
    "evaluate (8) for a finite set of frequencies, $\\omega$. We must sample in the frequency domain to compute the DTFT on a computer. We can pick any set of frequency points at which to evaluate (8), but it is particularly useful to uniformly sample $\\omega$ at $N$ points, in the range $[0, 2\\pi)$. If we substitute\n",
    "\n",
    "\\begin{align}\n",
    "    \\omega=2\\pi k/N\\tag{12}\n",
    "\\end{align}\n",
    "\n",
    "for $k=0,1,\\dots,(N-1)$ in (8), we find that\n",
    "\n",
    "\\begin{align}\n",
    "    X_{\\text{tr}}(e^{j\\omega})\\big\\rvert_{\\omega=\\frac{2\\pi k}{N}}&=\\sum_{n=0}^{N-1}x[n]e^{-j\\omega n}\\bigg\\rvert_{\\omega=\\frac{2\\pi k}{N}}\\\\\n",
    "    &=\\sum_{n=0}^{N-1}x[n]e^{-j2\\pi kn/N}\\\\\n",
    "    &=X_N[k].\n",
    "\\end{align}\n",
    "\n",
    "In short, the DFT values result from sampling the DTFT of the truncated signal.\n",
    "\n",
    "\\begin{align}\n",
    "    X_N[k]=X_{\\text{tr}}(e^{j2\\pi k/N})\\tag{13}\n",
    "\\end{align}"
   ]
  },
  {
   "cell_type": "markdown",
   "metadata": {},
   "source": [
    "<h3 style=\"color:red;\"><left>Exercise 2: Windowing Effects</left></h3>"
   ]
  },
  {
   "cell_type": "markdown",
   "metadata": {},
   "source": [
    "We will next investigate the effect of windowing when computing the DFT of the signal $x(n)=\\cos\\left(\\frac{\\pi}{4}n\\right)$ truncated with a window of size $N=20$.\n",
    "\n",
    "<figure>\n",
    "    <img src=\"imgs/figure1.png\" style=\"width:60%\">\n",
    "    <em><center>Figure 1: The plot of a Hamming window (left) and its DTFT (right).</center></em>\n",
    "</figure>"
   ]
  },
  {
   "cell_type": "markdown",
   "metadata": {},
   "source": [
    "**1. Plot the magnitude of $W(e^{j\\omega})$, using equations (10) and (11).**"
   ]
  },
  {
   "cell_type": "code",
   "execution_count": 3,
   "metadata": {},
   "outputs": [],
   "source": [
    "# insert your code here\n"
   ]
  },
  {
   "cell_type": "markdown",
   "metadata": {},
   "source": [
    "**2. Plot the phase of $W(e^{j\\omega})$, using equations (10) and (11).**"
   ]
  },
  {
   "cell_type": "code",
   "execution_count": 4,
   "metadata": {},
   "outputs": [],
   "source": [
    "# insert your code here\n"
   ]
  },
  {
   "cell_type": "markdown",
   "metadata": {},
   "source": [
    "**3. Determine an analytical expression for $X(e^{j\\omega})$ (the DTFT of the non-truncated signal).**"
   ]
  },
  {
   "cell_type": "markdown",
   "metadata": {},
   "source": [
    "insert your answer here"
   ]
  },
  {
   "cell_type": "markdown",
   "metadata": {},
   "source": [
    "**4. Truncate the signal $x[n]$ using a window of size $N = 20$ and then use ```DTFT``` to compute $X_{\\text{tr}}(e^{j\\omega})$. Then plot the magnitude of $X_{\\text{tr}}(e^{j\\omega})$. Make sure that the plot contains a least 512 points.**\n",
    "\n",
    "**Hint:** Use the command ```X, w = DTFT(x, 512)```."
   ]
  },
  {
   "cell_type": "code",
   "execution_count": 5,
   "metadata": {},
   "outputs": [],
   "source": [
    "# insert you code here\n"
   ]
  },
  {
   "cell_type": "markdown",
   "metadata": {},
   "source": [
    "**5. Describe the difference between $|X_{\\text{tr}}(e^{j\\omega})$ and $|X(e^{j\\omega})|$. What is the reason for this difference?**"
   ]
  },
  {
   "cell_type": "markdown",
   "metadata": {},
   "source": [
    "insert your answer here"
   ]
  },
  {
   "cell_type": "markdown",
   "metadata": {},
   "source": [
    "**6. What would you expect your plots to look like if you had used a Hamming window in place of the truncation (rectangular) window? (See Fig. 1 for a plot of a Hamming window of length 20 and its DTFT.) Submit the plot of the magnitude of the DTFT of the signal $x[n]$ windowed using a Hamming window. (Hint: The Python command for a Hamming window is `hamming(N)`.)**"
   ]
  },
  {
   "cell_type": "markdown",
   "metadata": {},
   "source": [
    "insert your answer here"
   ]
  },
  {
   "cell_type": "markdown",
   "metadata": {},
   "source": [
    "**7. Comment on the effects of using a different window for $w[n]$.**"
   ]
  },
  {
   "cell_type": "markdown",
   "metadata": {},
   "source": [
    "insert your answer here"
   ]
  },
  {
   "cell_type": "markdown",
   "metadata": {},
   "source": [
    "<h2 style=\"color:salmon;\"><left>3. The Discrete Fourier Transform</left></h2>"
   ]
  },
  {
   "cell_type": "markdown",
   "metadata": {},
   "source": [
    "<h3 style=\"color:red;\"><left>Exercise 3.1: Computing the DFT</left></h3>"
   ]
  },
  {
   "cell_type": "markdown",
   "metadata": {},
   "source": [
    "We will now develop our own DFT functions to help our understanding of how the DFT comes from the DTFT."
   ]
  },
  {
   "cell_type": "markdown",
   "metadata": {},
   "source": [
    "**1. Write your own Python function to implement the DFT of equation (3). Your routine should implement the DFT exactly as specified by (3) using *for-loops* for $n$ and $k$, and computing the exponentials as they appear.**\n",
    "\n",
    "**Hint:** initialize `X` as a vector of complex values by using ```.astype(complex)```."
   ]
  },
  {
   "cell_type": "code",
   "execution_count": 6,
   "metadata": {},
   "outputs": [],
   "source": [
    "def DFTsum(x):\n",
    "    \"\"\"\n",
    "    Parameters:\n",
    "    ---\n",
    "    x: the input signal, an N point vector contining the values x[0], ..., x[N - 1]\n",
    "    \n",
    "    Returns:\n",
    "    ---\n",
    "    X: the DFT of x\n",
    "    \"\"\"\n",
    "    X = None\n",
    "    return X"
   ]
  },
  {
   "cell_type": "markdown",
   "metadata": {},
   "source": [
    "**2. Test your routine ```DFTsum``` by computing $X_N(k)$ for each of the following cases:**\n",
    "\n",
    "* $x(n)=\\delta(n)\\quad\\text{for }N=10$\n",
    "* $x(n)=1\\quad\\text{for }N=10$\n",
    "* $x(n)=e^{j2\\pi n/10}\\quad\\text{for }N=10$\n",
    "* $x(n)=\\cos(2\\pi n/10)\\quad\\text{for }N=10$\n",
    "\n",
    "**and plot the magnitude of each of the DFT’s.**"
   ]
  },
  {
   "cell_type": "code",
   "execution_count": 7,
   "metadata": {},
   "outputs": [],
   "source": [
    "# first case\n"
   ]
  },
  {
   "cell_type": "code",
   "execution_count": 8,
   "metadata": {},
   "outputs": [],
   "source": [
    "# second case\n"
   ]
  },
  {
   "cell_type": "code",
   "execution_count": 9,
   "metadata": {},
   "outputs": [],
   "source": [
    "# third case\n"
   ]
  },
  {
   "cell_type": "code",
   "execution_count": 10,
   "metadata": {},
   "outputs": [],
   "source": [
    "# fourth case\n"
   ]
  },
  {
   "cell_type": "markdown",
   "metadata": {},
   "source": [
    "**3. Derive simple closed-form analytical expressions for the DFT (not the DTFT!) of each signal.**"
   ]
  },
  {
   "cell_type": "markdown",
   "metadata": {},
   "source": [
    "insert your answer here"
   ]
  },
  {
   "cell_type": "markdown",
   "metadata": {},
   "source": [
    "<h3 style=\"color:red;\"><left>Exercise 3.2: Computing the Inverse DFT</left></h3>"
   ]
  },
  {
   "cell_type": "markdown",
   "metadata": {},
   "source": [
    "**1. Write a Python function for computing the inverse DFT of (4).**"
   ]
  },
  {
   "cell_type": "code",
   "execution_count": 11,
   "metadata": {},
   "outputs": [],
   "source": [
    "def IDFTsum(X):\n",
    "    '''\n",
    "    Parameters:\n",
    "    ---\n",
    "    X: the N point vector containing the DFT\n",
    "    \n",
    "    Returns:\n",
    "    ---\n",
    "    x: the corresponding time-domain signal\n",
    "    '''\n",
    "    x = None\n",
    "    return x"
   ]
  },
  {
   "cell_type": "markdown",
   "metadata": {},
   "source": [
    "**2. Use ```IDFTsum``` to invert each of the DFT’s computed in the previous problem. Plot the magnitudes of the inverted DFT’s, and verify that those time-domain signals match the original ones. Use ```np.real()``` to eliminate any imaginary parts which roundoff error may produce.**"
   ]
  },
  {
   "cell_type": "code",
   "execution_count": 12,
   "metadata": {},
   "outputs": [],
   "source": [
    "# insert your code here\n"
   ]
  },
  {
   "cell_type": "markdown",
   "metadata": {},
   "source": [
    "<h3 style=\"color:red;\"><left>Exercise 3.3: Matrix Representation of the DFT</left></h3>"
   ]
  },
  {
   "cell_type": "markdown",
   "metadata": {},
   "source": [
    "The DFT of (3) can be implemented as a matrix-vector product. To see this, consider the equation\n",
    "\n",
    "\\begin{equation}\n",
    "    X=Ax\\tag{14}\n",
    "\\end{equation}\n",
    "\n",
    "where $A$ is an $N \\times N$ matrix, and both $X$ and $x$ are $N \\times 1$ column vectors. This matrix product is equivalent to the summation\n",
    "\n",
    "\\begin{equation}\n",
    "    X_k=\\sum_{n=0}^{N-1}A_{kn}x_n\\tag{15}\n",
    "\\end{equation}\n",
    "\n",
    "where $A_{kn}$ is the matrix element in the $k$th row and $n$th column of $A$. By comparing equations (3) and (15) we see that for the DFT,\n",
    "\n",
    "\\begin{equation}\n",
    "    A_{kn}=e^{-j2\\pi kn/N}\\tag{16}\n",
    "\\end{equation}"
   ]
  },
  {
   "cell_type": "markdown",
   "metadata": {},
   "source": [
    "**1. Write a Python function for computing the $N\\times N$ DFT matrix $A$ in equation (16).**"
   ]
  },
  {
   "cell_type": "code",
   "execution_count": 13,
   "metadata": {},
   "outputs": [],
   "source": [
    "def DFTmatrix(N):\n",
    "    \"\"\"\n",
    "    Parameters:\n",
    "    ---\n",
    "    N: N point DFT\n",
    "    \n",
    "    Returns:\n",
    "    ---\n",
    "    A: an N x N DFT matrix\n",
    "    \"\"\"\n",
    "    A = None\n",
    "    return A"
   ]
  },
  {
   "cell_type": "markdown",
   "metadata": {},
   "source": [
    "**2. Print out the matrix $A$ for $N=5$.**"
   ]
  },
  {
   "cell_type": "code",
   "execution_count": 14,
   "metadata": {},
   "outputs": [],
   "source": [
    "# insert your code here\n"
   ]
  },
  {
   "cell_type": "markdown",
   "metadata": {},
   "source": [
    "**3. Use the matrix $A$ to compute the DFT of the following signals.**\n",
    "\n",
    "* $x(n)=\\delta(n)\\quad\\text{for }N=10$\n",
    "* $x(n)=1\\quad\\text{for }N=10$\n",
    "* $x(n)=e^{j2\\pi n/N}\\quad\\text{for }N=10$"
   ]
  },
  {
   "cell_type": "code",
   "execution_count": 15,
   "metadata": {},
   "outputs": [],
   "source": [
    "# insert your code here\n"
   ]
  },
  {
   "cell_type": "markdown",
   "metadata": {},
   "source": [
    "**4. Plot the magnitude plots of these 3 DFTs.**"
   ]
  },
  {
   "cell_type": "code",
   "execution_count": 16,
   "metadata": {},
   "outputs": [],
   "source": [
    "# the DFT of the first signal\n"
   ]
  },
  {
   "cell_type": "code",
   "execution_count": 17,
   "metadata": {},
   "outputs": [],
   "source": [
    "# the DFT of the second signal\n"
   ]
  },
  {
   "cell_type": "code",
   "execution_count": 18,
   "metadata": {},
   "outputs": [],
   "source": [
    "# the DFT of the third signal\n"
   ]
  },
  {
   "cell_type": "markdown",
   "metadata": {},
   "source": [
    "**5. How many multiplies are required to compute an $N$ point DFT using the matrix method (Consider a multiply as the multiplication of either complex or real numbers.)**"
   ]
  },
  {
   "cell_type": "markdown",
   "metadata": {},
   "source": [
    "insert your answer here"
   ]
  },
  {
   "cell_type": "markdown",
   "metadata": {},
   "source": [
    "<h3 style=\"color:red;\"><left>Exercise 3.4: Matrix Representation of the Inverse DFT</left></h3>"
   ]
  },
  {
   "cell_type": "markdown",
   "metadata": {},
   "source": [
    "As with the DFT, the inverse DFT may also be represented as a matrix-vector product\n",
    "\n",
    "\\begin{equation}\n",
    "    x=BX\n",
    "\\end{equation}"
   ]
  },
  {
   "cell_type": "markdown",
   "metadata": {},
   "source": [
    "**1. Write an analytical expression for the elements of the inverse DFT matrix ```B```, using\n",
    "the form of equation (16).**"
   ]
  },
  {
   "cell_type": "markdown",
   "metadata": {},
   "source": [
    "insert your answer here"
   ]
  },
  {
   "cell_type": "markdown",
   "metadata": {},
   "source": [
    "**2. Write a Python function for computing the $N\\times N$ inverse DFT matrix $B$.**"
   ]
  },
  {
   "cell_type": "code",
   "execution_count": 19,
   "metadata": {},
   "outputs": [],
   "source": [
    "def IDFTmatrix(N):\n",
    "    \"\"\"\n",
    "    Parameters:\n",
    "    ---\n",
    "    N: N-point IDFT\n",
    "    \n",
    "    Returns:\n",
    "    ---\n",
    "    B: the N x N inverse DFT matrix\n",
    "    \"\"\"\n",
    "    B = None\n",
    "    return B"
   ]
  },
  {
   "cell_type": "markdown",
   "metadata": {},
   "source": [
    "**3. Print out the matrix $B$ for $N=5$.**"
   ]
  },
  {
   "cell_type": "code",
   "execution_count": 20,
   "metadata": {},
   "outputs": [],
   "source": [
    "# insert your code here\n"
   ]
  },
  {
   "cell_type": "markdown",
   "metadata": {},
   "source": [
    "**4. Compute the matrices $A$ for $N = 5$. Then compute and print out the elements of $C=BA$.**"
   ]
  },
  {
   "cell_type": "code",
   "execution_count": 21,
   "metadata": {},
   "outputs": [],
   "source": [
    "# insert your code here\n"
   ]
  },
  {
   "cell_type": "markdown",
   "metadata": {},
   "source": [
    "**5. What form does $C$ have? Why does it have this form?**"
   ]
  },
  {
   "cell_type": "markdown",
   "metadata": {},
   "source": [
    "insert your answer here"
   ]
  },
  {
   "cell_type": "markdown",
   "metadata": {},
   "source": [
    "<h3 style=\"color:red;\"><left>Exercise 3.5: Computation Time Comparison</left></h3>"
   ]
  },
  {
   "cell_type": "markdown",
   "metadata": {},
   "source": [
    "Although the operations performed by `DFTsum(x)` are mathematically identical to a matrix product, the computation times for these two DFT's in Python are quite different. (This is despite the fact that the computational complexity of two procedures is of the same order!) This exercise will underscore why you should try to avoid using *for* loops in Python, and wherever possible, try formulate your computations using matrix/vector products."
   ]
  },
  {
   "cell_type": "markdown",
   "metadata": {},
   "source": [
    "To see this, do the following:\n",
    "\n",
    "**1. Compute the signal $x(n)=\\cos(2\\pi n/10)$ for $N=512$.**"
   ]
  },
  {
   "cell_type": "code",
   "execution_count": 22,
   "metadata": {},
   "outputs": [],
   "source": [
    "# insert your code here\n"
   ]
  },
  {
   "cell_type": "markdown",
   "metadata": {},
   "source": [
    "**2. Compute the matrix $A$ for $N=512$.**"
   ]
  },
  {
   "cell_type": "code",
   "execution_count": 23,
   "metadata": {},
   "outputs": [],
   "source": [
    "# insert your code here\n"
   ]
  },
  {
   "cell_type": "markdown",
   "metadata": {},
   "source": [
    "**3. Compare the computation time of `DFTsum(x)` with a matrix implementation ```X = A.dot(x)``` by using the *time* function from *time* library before and after  the program execution (See the example below). Do not include the computation of $A$ in your timing calculations.**\n",
    "\n",
    "**Report the time required for each of the two implementations.**\n",
    "\n",
    "```python\n",
    "t1 = time.time()\n",
    "# program execution\n",
    "t2 = time.time()\n",
    "print(f\"time taken: {t2 - t1:.4f}\")\n",
    "```"
   ]
  },
  {
   "cell_type": "code",
   "execution_count": 24,
   "metadata": {},
   "outputs": [],
   "source": [
    "# insert your code here\n"
   ]
  },
  {
   "cell_type": "markdown",
   "metadata": {},
   "source": [
    "**4. Which method is faster? Which method requires less storage?**"
   ]
  },
  {
   "cell_type": "markdown",
   "metadata": {},
   "source": [
    "insert your answer here"
   ]
  }
 ],
 "metadata": {
  "kernelspec": {
   "display_name": "Python 3 (ipykernel)",
   "language": "python",
   "name": "python3"
  },
  "language_info": {
   "codemirror_mode": {
    "name": "ipython",
    "version": 3
   },
   "file_extension": ".py",
   "mimetype": "text/x-python",
   "name": "python",
   "nbconvert_exporter": "python",
   "pygments_lexer": "ipython3",
   "version": "3.8.1"
  }
 },
 "nbformat": 4,
 "nbformat_minor": 2
}
